{
 "cells": [
  {
   "cell_type": "code",
   "execution_count": 1,
   "metadata": {},
   "outputs": [],
   "source": [
    "import codecs\n",
    "import csv\n",
    "import statistics\n",
    "import boto3\n",
    "\n",
    "\n",
    "client = boto3.client(\"s3\")\n",
    "\n",
    "data = client.get_object(Bucket='rogers-bucket-test-814', Key='airline data/airline-safety.csv')\n",
    "\n",
    "airline = {}\n",
    "for row in csv.DictReader(codecs.getreader(\"utf-8\")(data[\"Body\"])):\n",
    "    airline[row['airline']] = (int(row['incidents_85_99']) + int(row['fatal_accidents_85_99']) + int(row['fatalities_85_99']) + int(row['incidents_00_14']) + int(row['fatal_accidents_00_14']) + int(row['fatalities_00_14'])) / int(row['avail_seat_km_per_week']) \n",
    "\n",
    "\n",
    "    \n",
    "        \n"
   ]
  },
  {
   "cell_type": "code",
   "execution_count": 2,
   "metadata": {},
   "outputs": [
    {
     "name": "stdout",
     "output_type": "stream",
     "text": [
      "{'Aer Lingus': 6.2323403908376696e-09, 'Aeroflot*': 2.6134026419069326e-07, 'Aerolineas Argentinas': 1.8143944559072704e-08, 'Aeromexico*': 1.223043179624902e-07, 'Air Canada': 2.144480282367493e-09, 'Air France': 1.4713702012929076e-07, 'Air India*': 5.694541010055027e-07, 'Air New Zealand*': 2.2529663988352886e-08, 'Alaska Airlines*': 1.0255382083304484e-07, 'Alitalia': 9.025626357767594e-08, 'All Nippon Airways': 6.517367616732002e-09, 'American*': 1.0768200476519074e-07, 'Austrian Airlines': 5.582852244765653e-09, 'Avianca': 8.339158084092085e-07, 'British Airways*': 3.1448904967872566e-09, 'Cathay Pacific*': 7.744555732888542e-10, 'China Airlines': 9.6038387377161e-07, 'Condor': 4.545643657280383e-08, 'COPA': 9.264448107098589e-08, 'Delta / Northwest*': 7.968543996041727e-08, 'Egyptair': 5.594406687807655e-07, 'El Al': 2.0867614414290347e-08, 'Ethiopian Airlines': 6.05861328048072e-07, 'Finnair': 1.974470296513115e-09, 'Garuda Indonesia': 4.907422013584869e-07, 'Gulf Air': 4.91074778936218e-07, 'Hawaiian Airlines': 2.0247923881655786e-09, 'Iberia': 1.3467403597763683e-07, 'Japan Airlines': 3.3286378132705476e-07, 'Kenya Airways': 1.0417613128447648e-06, 'KLM*': 6.401496164511832e-09, 'Korean Air': 2.554016873132651e-07, 'LAN Airlines': 2.5948987119762143e-08, 'Lufthansa*': 3.502085706833009e-09, 'Malaysia Airlines': 5.581370763950816e-07, 'Pakistan International': 8.69282972972555e-07, 'Philippine Airlines': 2.154926331809484e-07, 'Qantas*': 3.1291902073385992e-09, 'Royal Air Maroc': 2.0966817917345753e-07, 'SAS*': 1.786310806847132e-07, 'Saudi Arabian': 3.873561819343868e-07, 'Singapore Airlines': 4.038945863654641e-08, 'South African': 2.5019092714314033e-07, 'Southwest Airlines': 2.7468119074186315e-09, 'Sri Lankan / AirLanka': 6.449968686323452e-08, 'SWISS*': 2.96492070220541e-07, 'TACA': 4.6265355269002856e-08, 'TAM': 2.0275701219456075e-07, 'TAP - Air Portugal': 0.0, 'Thai Airways': 1.9027459001771932e-07, 'Turkish Airlines': 8.684042348787958e-08, 'United / Continental*': 6.597293495977064e-08, 'US Airways / America West*': 1.1524265827842152e-07, 'Vietnam Airlines': 2.9116044038035806e-07, 'Virgin Atlantic': 9.94778818813259e-10, 'Xiamen Airlines': 2.1836954232545562e-07}\n"
     ]
    }
   ],
   "source": [
    "print(airline)"
   ]
  },
  {
   "cell_type": "code",
   "execution_count": 3,
   "metadata": {},
   "outputs": [],
   "source": [
    "lsSorted = sorted(airline.items(), key = lambda x: x[1], reverse = True)"
   ]
  },
  {
   "cell_type": "code",
   "execution_count": 4,
   "metadata": {},
   "outputs": [
    {
     "name": "stdout",
     "output_type": "stream",
     "text": [
      "[('Kenya Airways', 1.0417613128447648e-06), ('China Airlines', 9.6038387377161e-07), ('Pakistan International', 8.69282972972555e-07), ('Avianca', 8.339158084092085e-07), ('Ethiopian Airlines', 6.05861328048072e-07), ('Air India*', 5.694541010055027e-07), ('Egyptair', 5.594406687807655e-07), ('Malaysia Airlines', 5.581370763950816e-07), ('Gulf Air', 4.91074778936218e-07), ('Garuda Indonesia', 4.907422013584869e-07), ('Saudi Arabian', 3.873561819343868e-07), ('Japan Airlines', 3.3286378132705476e-07), ('SWISS*', 2.96492070220541e-07), ('Vietnam Airlines', 2.9116044038035806e-07), ('Aeroflot*', 2.6134026419069326e-07), ('Korean Air', 2.554016873132651e-07), ('South African', 2.5019092714314033e-07), ('Xiamen Airlines', 2.1836954232545562e-07), ('Philippine Airlines', 2.154926331809484e-07), ('Royal Air Maroc', 2.0966817917345753e-07), ('TAM', 2.0275701219456075e-07), ('Thai Airways', 1.9027459001771932e-07), ('SAS*', 1.786310806847132e-07), ('Air France', 1.4713702012929076e-07), ('Iberia', 1.3467403597763683e-07), ('Aeromexico*', 1.223043179624902e-07), ('US Airways / America West*', 1.1524265827842152e-07), ('American*', 1.0768200476519074e-07), ('Alaska Airlines*', 1.0255382083304484e-07), ('COPA', 9.264448107098589e-08), ('Alitalia', 9.025626357767594e-08), ('Turkish Airlines', 8.684042348787958e-08), ('Delta / Northwest*', 7.968543996041727e-08), ('United / Continental*', 6.597293495977064e-08), ('Sri Lankan / AirLanka', 6.449968686323452e-08), ('TACA', 4.6265355269002856e-08), ('Condor', 4.545643657280383e-08), ('Singapore Airlines', 4.038945863654641e-08), ('LAN Airlines', 2.5948987119762143e-08), ('Air New Zealand*', 2.2529663988352886e-08), ('El Al', 2.0867614414290347e-08), ('Aerolineas Argentinas', 1.8143944559072704e-08), ('All Nippon Airways', 6.517367616732002e-09), ('KLM*', 6.401496164511832e-09), ('Aer Lingus', 6.2323403908376696e-09), ('Austrian Airlines', 5.582852244765653e-09), ('Lufthansa*', 3.502085706833009e-09), ('British Airways*', 3.1448904967872566e-09), ('Qantas*', 3.1291902073385992e-09), ('Southwest Airlines', 2.7468119074186315e-09), ('Air Canada', 2.144480282367493e-09), ('Hawaiian Airlines', 2.0247923881655786e-09), ('Finnair', 1.974470296513115e-09), ('Virgin Atlantic', 9.94778818813259e-10), ('Cathay Pacific*', 7.744555732888542e-10), ('TAP - Air Portugal', 0.0)]\n"
     ]
    }
   ],
   "source": [
    "print(lsSorted)"
   ]
  },
  {
   "cell_type": "code",
   "execution_count": 5,
   "metadata": {},
   "outputs": [
    {
     "name": "stdout",
     "output_type": "stream",
     "text": [
      "1.0417613128447648e-06\n",
      "9.6038387377161e-07\n",
      "8.69282972972555e-07\n",
      "8.339158084092085e-07\n",
      "6.05861328048072e-07\n",
      "5.694541010055027e-07\n",
      "5.594406687807655e-07\n",
      "5.581370763950816e-07\n",
      "4.91074778936218e-07\n",
      "4.907422013584869e-07\n",
      "3.873561819343868e-07\n",
      "3.3286378132705476e-07\n",
      "2.96492070220541e-07\n",
      "2.9116044038035806e-07\n",
      "2.6134026419069326e-07\n",
      "2.554016873132651e-07\n",
      "2.5019092714314033e-07\n",
      "2.1836954232545562e-07\n",
      "2.154926331809484e-07\n",
      "2.0966817917345753e-07\n",
      "2.0275701219456075e-07\n",
      "1.9027459001771932e-07\n",
      "1.786310806847132e-07\n",
      "1.4713702012929076e-07\n",
      "1.3467403597763683e-07\n",
      "1.223043179624902e-07\n",
      "1.1524265827842152e-07\n",
      "1.0768200476519074e-07\n",
      "1.0255382083304484e-07\n",
      "9.264448107098589e-08\n",
      "9.025626357767594e-08\n",
      "8.684042348787958e-08\n",
      "7.968543996041727e-08\n",
      "6.597293495977064e-08\n",
      "6.449968686323452e-08\n",
      "4.6265355269002856e-08\n",
      "4.545643657280383e-08\n",
      "4.038945863654641e-08\n",
      "2.5948987119762143e-08\n",
      "2.2529663988352886e-08\n",
      "2.0867614414290347e-08\n",
      "1.8143944559072704e-08\n",
      "6.517367616732002e-09\n",
      "6.401496164511832e-09\n",
      "6.2323403908376696e-09\n",
      "5.582852244765653e-09\n",
      "3.502085706833009e-09\n",
      "3.1448904967872566e-09\n",
      "3.1291902073385992e-09\n",
      "2.7468119074186315e-09\n",
      "2.144480282367493e-09\n",
      "2.0247923881655786e-09\n",
      "1.974470296513115e-09\n",
      "9.94778818813259e-10\n",
      "7.744555732888542e-10\n",
      "0.0\n"
     ]
    }
   ],
   "source": [
    "medianList = 0\n",
    "x = 0\n",
    "incidentArray = []\n",
    "for line in lsSorted:\n",
    "    incidentArray.append(lsSorted[x][1])\n",
    "    print(lsSorted[x][1])\n",
    "    x = x + 1"
   ]
  },
  {
   "cell_type": "code",
   "execution_count": 6,
   "metadata": {},
   "outputs": [
    {
     "name": "stdout",
     "output_type": "stream",
     "text": [
      "1.0511791279911779e-07\n"
     ]
    }
   ],
   "source": [
    "medianList = statistics.median(incidentArray)\n",
    "print(medianList)"
   ]
  },
  {
   "cell_type": "code",
   "execution_count": 7,
   "metadata": {},
   "outputs": [
    {
     "name": "stdout",
     "output_type": "stream",
     "text": [
      "[('Alaska Airlines*', 1.0255382083304484e-07), ('COPA', 9.264448107098589e-08), ('Alitalia', 9.025626357767594e-08), ('Turkish Airlines', 8.684042348787958e-08), ('Delta / Northwest*', 7.968543996041727e-08), ('United / Continental*', 6.597293495977064e-08), ('Sri Lankan / AirLanka', 6.449968686323452e-08), ('TACA', 4.6265355269002856e-08), ('Condor', 4.545643657280383e-08), ('Singapore Airlines', 4.038945863654641e-08), ('LAN Airlines', 2.5948987119762143e-08), ('Air New Zealand*', 2.2529663988352886e-08), ('El Al', 2.0867614414290347e-08), ('Aerolineas Argentinas', 1.8143944559072704e-08), ('All Nippon Airways', 6.517367616732002e-09), ('KLM*', 6.401496164511832e-09), ('Aer Lingus', 6.2323403908376696e-09), ('Austrian Airlines', 5.582852244765653e-09), ('Lufthansa*', 3.502085706833009e-09), ('British Airways*', 3.1448904967872566e-09), ('Qantas*', 3.1291902073385992e-09), ('Southwest Airlines', 2.7468119074186315e-09), ('Air Canada', 2.144480282367493e-09), ('Hawaiian Airlines', 2.0247923881655786e-09), ('Finnair', 1.974470296513115e-09), ('Virgin Atlantic', 9.94778818813259e-10), ('Cathay Pacific*', 7.744555732888542e-10), ('TAP - Air Portugal', 0.0)]\n"
     ]
    }
   ],
   "source": [
    "lsLessThanMedian = [x for x in lsSorted if x[1] < medianList]\n",
    "print(lsLessThanMedian)"
   ]
  },
  {
   "cell_type": "code",
   "execution_count": 22,
   "metadata": {},
   "outputs": [
    {
     "name": "stdout",
     "output_type": "stream",
     "text": [
      "10255.382083304483\n",
      "9264.44810709859\n",
      "9025.626357767595\n",
      "8684.042348787958\n",
      "7968.543996041727\n",
      "6597.293495977064\n",
      "6449.968686323452\n",
      "4626.535526900286\n",
      "4545.643657280382\n",
      "4038.945863654641\n",
      "2594.898711976214\n",
      "2252.9663988352886\n",
      "2086.7614414290347\n",
      "1814.3944559072704\n",
      "651.7367616732002\n",
      "640.1496164511832\n",
      "623.2340390837669\n",
      "558.2852244765653\n",
      "350.20857068330093\n",
      "314.4890496787257\n",
      "312.91902073385995\n",
      "274.68119074186313\n",
      "214.4480282367493\n",
      "202.47923881655785\n",
      "197.4470296513115\n",
      "99.4778818813259\n",
      "77.44555732888543\n",
      "0.0\n"
     ]
    }
   ],
   "source": [
    "dPlotly={'airline':[],'number problems / 100000000000':[]}\n",
    "for item in lsLessThanMedian:\n",
    "    name = item[0]\n",
    "    num = item[1] * 100000000000\n",
    "    print(num)\n",
    "    dPlotly['airline'].append(name)\n",
    "    dPlotly['number problems / 100000000000'].append(int(num))"
   ]
  },
  {
   "cell_type": "code",
   "execution_count": 23,
   "metadata": {},
   "outputs": [
    {
     "data": {
      "application/vnd.plotly.v1+json": {
       "config": {
        "plotlyServerURL": "https://plot.ly"
       },
       "data": [
        {
         "alignmentgroup": "True",
         "hovertemplate": "airline=%{x}<br>number problems / 100000000000=%{y}<extra></extra>",
         "legendgroup": "",
         "marker": {
          "color": "#636efa"
         },
         "name": "",
         "offsetgroup": "",
         "orientation": "v",
         "showlegend": false,
         "textposition": "auto",
         "type": "bar",
         "x": [
          "Alaska Airlines*",
          "COPA",
          "Alitalia",
          "Turkish Airlines",
          "Delta / Northwest*",
          "United / Continental*",
          "Sri Lankan / AirLanka",
          "TACA",
          "Condor",
          "Singapore Airlines",
          "LAN Airlines",
          "Air New Zealand*",
          "El Al",
          "Aerolineas Argentinas",
          "All Nippon Airways",
          "KLM*",
          "Aer Lingus",
          "Austrian Airlines",
          "Lufthansa*",
          "British Airways*",
          "Qantas*",
          "Southwest Airlines",
          "Air Canada",
          "Hawaiian Airlines",
          "Finnair",
          "Virgin Atlantic",
          "Cathay Pacific*",
          "TAP - Air Portugal"
         ],
         "xaxis": "x",
         "y": [
          10255,
          9264,
          9025,
          8684,
          7968,
          6597,
          6449,
          4626,
          4545,
          4038,
          2594,
          2252,
          2086,
          1814,
          651,
          640,
          623,
          558,
          350,
          314,
          312,
          274,
          214,
          202,
          197,
          99,
          77,
          0
         ],
         "yaxis": "y"
        }
       ],
       "layout": {
        "barmode": "relative",
        "legend": {
         "tracegroupgap": 0
        },
        "margin": {
         "t": 60
        },
        "template": {
         "data": {
          "bar": [
           {
            "error_x": {
             "color": "#2a3f5f"
            },
            "error_y": {
             "color": "#2a3f5f"
            },
            "marker": {
             "line": {
              "color": "#E5ECF6",
              "width": 0.5
             }
            },
            "type": "bar"
           }
          ],
          "barpolar": [
           {
            "marker": {
             "line": {
              "color": "#E5ECF6",
              "width": 0.5
             }
            },
            "type": "barpolar"
           }
          ],
          "carpet": [
           {
            "aaxis": {
             "endlinecolor": "#2a3f5f",
             "gridcolor": "white",
             "linecolor": "white",
             "minorgridcolor": "white",
             "startlinecolor": "#2a3f5f"
            },
            "baxis": {
             "endlinecolor": "#2a3f5f",
             "gridcolor": "white",
             "linecolor": "white",
             "minorgridcolor": "white",
             "startlinecolor": "#2a3f5f"
            },
            "type": "carpet"
           }
          ],
          "choropleth": [
           {
            "colorbar": {
             "outlinewidth": 0,
             "ticks": ""
            },
            "type": "choropleth"
           }
          ],
          "contour": [
           {
            "colorbar": {
             "outlinewidth": 0,
             "ticks": ""
            },
            "colorscale": [
             [
              0,
              "#0d0887"
             ],
             [
              0.1111111111111111,
              "#46039f"
             ],
             [
              0.2222222222222222,
              "#7201a8"
             ],
             [
              0.3333333333333333,
              "#9c179e"
             ],
             [
              0.4444444444444444,
              "#bd3786"
             ],
             [
              0.5555555555555556,
              "#d8576b"
             ],
             [
              0.6666666666666666,
              "#ed7953"
             ],
             [
              0.7777777777777778,
              "#fb9f3a"
             ],
             [
              0.8888888888888888,
              "#fdca26"
             ],
             [
              1,
              "#f0f921"
             ]
            ],
            "type": "contour"
           }
          ],
          "contourcarpet": [
           {
            "colorbar": {
             "outlinewidth": 0,
             "ticks": ""
            },
            "type": "contourcarpet"
           }
          ],
          "heatmap": [
           {
            "colorbar": {
             "outlinewidth": 0,
             "ticks": ""
            },
            "colorscale": [
             [
              0,
              "#0d0887"
             ],
             [
              0.1111111111111111,
              "#46039f"
             ],
             [
              0.2222222222222222,
              "#7201a8"
             ],
             [
              0.3333333333333333,
              "#9c179e"
             ],
             [
              0.4444444444444444,
              "#bd3786"
             ],
             [
              0.5555555555555556,
              "#d8576b"
             ],
             [
              0.6666666666666666,
              "#ed7953"
             ],
             [
              0.7777777777777778,
              "#fb9f3a"
             ],
             [
              0.8888888888888888,
              "#fdca26"
             ],
             [
              1,
              "#f0f921"
             ]
            ],
            "type": "heatmap"
           }
          ],
          "heatmapgl": [
           {
            "colorbar": {
             "outlinewidth": 0,
             "ticks": ""
            },
            "colorscale": [
             [
              0,
              "#0d0887"
             ],
             [
              0.1111111111111111,
              "#46039f"
             ],
             [
              0.2222222222222222,
              "#7201a8"
             ],
             [
              0.3333333333333333,
              "#9c179e"
             ],
             [
              0.4444444444444444,
              "#bd3786"
             ],
             [
              0.5555555555555556,
              "#d8576b"
             ],
             [
              0.6666666666666666,
              "#ed7953"
             ],
             [
              0.7777777777777778,
              "#fb9f3a"
             ],
             [
              0.8888888888888888,
              "#fdca26"
             ],
             [
              1,
              "#f0f921"
             ]
            ],
            "type": "heatmapgl"
           }
          ],
          "histogram": [
           {
            "marker": {
             "colorbar": {
              "outlinewidth": 0,
              "ticks": ""
             }
            },
            "type": "histogram"
           }
          ],
          "histogram2d": [
           {
            "colorbar": {
             "outlinewidth": 0,
             "ticks": ""
            },
            "colorscale": [
             [
              0,
              "#0d0887"
             ],
             [
              0.1111111111111111,
              "#46039f"
             ],
             [
              0.2222222222222222,
              "#7201a8"
             ],
             [
              0.3333333333333333,
              "#9c179e"
             ],
             [
              0.4444444444444444,
              "#bd3786"
             ],
             [
              0.5555555555555556,
              "#d8576b"
             ],
             [
              0.6666666666666666,
              "#ed7953"
             ],
             [
              0.7777777777777778,
              "#fb9f3a"
             ],
             [
              0.8888888888888888,
              "#fdca26"
             ],
             [
              1,
              "#f0f921"
             ]
            ],
            "type": "histogram2d"
           }
          ],
          "histogram2dcontour": [
           {
            "colorbar": {
             "outlinewidth": 0,
             "ticks": ""
            },
            "colorscale": [
             [
              0,
              "#0d0887"
             ],
             [
              0.1111111111111111,
              "#46039f"
             ],
             [
              0.2222222222222222,
              "#7201a8"
             ],
             [
              0.3333333333333333,
              "#9c179e"
             ],
             [
              0.4444444444444444,
              "#bd3786"
             ],
             [
              0.5555555555555556,
              "#d8576b"
             ],
             [
              0.6666666666666666,
              "#ed7953"
             ],
             [
              0.7777777777777778,
              "#fb9f3a"
             ],
             [
              0.8888888888888888,
              "#fdca26"
             ],
             [
              1,
              "#f0f921"
             ]
            ],
            "type": "histogram2dcontour"
           }
          ],
          "mesh3d": [
           {
            "colorbar": {
             "outlinewidth": 0,
             "ticks": ""
            },
            "type": "mesh3d"
           }
          ],
          "parcoords": [
           {
            "line": {
             "colorbar": {
              "outlinewidth": 0,
              "ticks": ""
             }
            },
            "type": "parcoords"
           }
          ],
          "pie": [
           {
            "automargin": true,
            "type": "pie"
           }
          ],
          "scatter": [
           {
            "marker": {
             "colorbar": {
              "outlinewidth": 0,
              "ticks": ""
             }
            },
            "type": "scatter"
           }
          ],
          "scatter3d": [
           {
            "line": {
             "colorbar": {
              "outlinewidth": 0,
              "ticks": ""
             }
            },
            "marker": {
             "colorbar": {
              "outlinewidth": 0,
              "ticks": ""
             }
            },
            "type": "scatter3d"
           }
          ],
          "scattercarpet": [
           {
            "marker": {
             "colorbar": {
              "outlinewidth": 0,
              "ticks": ""
             }
            },
            "type": "scattercarpet"
           }
          ],
          "scattergeo": [
           {
            "marker": {
             "colorbar": {
              "outlinewidth": 0,
              "ticks": ""
             }
            },
            "type": "scattergeo"
           }
          ],
          "scattergl": [
           {
            "marker": {
             "colorbar": {
              "outlinewidth": 0,
              "ticks": ""
             }
            },
            "type": "scattergl"
           }
          ],
          "scattermapbox": [
           {
            "marker": {
             "colorbar": {
              "outlinewidth": 0,
              "ticks": ""
             }
            },
            "type": "scattermapbox"
           }
          ],
          "scatterpolar": [
           {
            "marker": {
             "colorbar": {
              "outlinewidth": 0,
              "ticks": ""
             }
            },
            "type": "scatterpolar"
           }
          ],
          "scatterpolargl": [
           {
            "marker": {
             "colorbar": {
              "outlinewidth": 0,
              "ticks": ""
             }
            },
            "type": "scatterpolargl"
           }
          ],
          "scatterternary": [
           {
            "marker": {
             "colorbar": {
              "outlinewidth": 0,
              "ticks": ""
             }
            },
            "type": "scatterternary"
           }
          ],
          "surface": [
           {
            "colorbar": {
             "outlinewidth": 0,
             "ticks": ""
            },
            "colorscale": [
             [
              0,
              "#0d0887"
             ],
             [
              0.1111111111111111,
              "#46039f"
             ],
             [
              0.2222222222222222,
              "#7201a8"
             ],
             [
              0.3333333333333333,
              "#9c179e"
             ],
             [
              0.4444444444444444,
              "#bd3786"
             ],
             [
              0.5555555555555556,
              "#d8576b"
             ],
             [
              0.6666666666666666,
              "#ed7953"
             ],
             [
              0.7777777777777778,
              "#fb9f3a"
             ],
             [
              0.8888888888888888,
              "#fdca26"
             ],
             [
              1,
              "#f0f921"
             ]
            ],
            "type": "surface"
           }
          ],
          "table": [
           {
            "cells": {
             "fill": {
              "color": "#EBF0F8"
             },
             "line": {
              "color": "white"
             }
            },
            "header": {
             "fill": {
              "color": "#C8D4E3"
             },
             "line": {
              "color": "white"
             }
            },
            "type": "table"
           }
          ]
         },
         "layout": {
          "annotationdefaults": {
           "arrowcolor": "#2a3f5f",
           "arrowhead": 0,
           "arrowwidth": 1
          },
          "coloraxis": {
           "colorbar": {
            "outlinewidth": 0,
            "ticks": ""
           }
          },
          "colorscale": {
           "diverging": [
            [
             0,
             "#8e0152"
            ],
            [
             0.1,
             "#c51b7d"
            ],
            [
             0.2,
             "#de77ae"
            ],
            [
             0.3,
             "#f1b6da"
            ],
            [
             0.4,
             "#fde0ef"
            ],
            [
             0.5,
             "#f7f7f7"
            ],
            [
             0.6,
             "#e6f5d0"
            ],
            [
             0.7,
             "#b8e186"
            ],
            [
             0.8,
             "#7fbc41"
            ],
            [
             0.9,
             "#4d9221"
            ],
            [
             1,
             "#276419"
            ]
           ],
           "sequential": [
            [
             0,
             "#0d0887"
            ],
            [
             0.1111111111111111,
             "#46039f"
            ],
            [
             0.2222222222222222,
             "#7201a8"
            ],
            [
             0.3333333333333333,
             "#9c179e"
            ],
            [
             0.4444444444444444,
             "#bd3786"
            ],
            [
             0.5555555555555556,
             "#d8576b"
            ],
            [
             0.6666666666666666,
             "#ed7953"
            ],
            [
             0.7777777777777778,
             "#fb9f3a"
            ],
            [
             0.8888888888888888,
             "#fdca26"
            ],
            [
             1,
             "#f0f921"
            ]
           ],
           "sequentialminus": [
            [
             0,
             "#0d0887"
            ],
            [
             0.1111111111111111,
             "#46039f"
            ],
            [
             0.2222222222222222,
             "#7201a8"
            ],
            [
             0.3333333333333333,
             "#9c179e"
            ],
            [
             0.4444444444444444,
             "#bd3786"
            ],
            [
             0.5555555555555556,
             "#d8576b"
            ],
            [
             0.6666666666666666,
             "#ed7953"
            ],
            [
             0.7777777777777778,
             "#fb9f3a"
            ],
            [
             0.8888888888888888,
             "#fdca26"
            ],
            [
             1,
             "#f0f921"
            ]
           ]
          },
          "colorway": [
           "#636efa",
           "#EF553B",
           "#00cc96",
           "#ab63fa",
           "#FFA15A",
           "#19d3f3",
           "#FF6692",
           "#B6E880",
           "#FF97FF",
           "#FECB52"
          ],
          "font": {
           "color": "#2a3f5f"
          },
          "geo": {
           "bgcolor": "white",
           "lakecolor": "white",
           "landcolor": "#E5ECF6",
           "showlakes": true,
           "showland": true,
           "subunitcolor": "white"
          },
          "hoverlabel": {
           "align": "left"
          },
          "hovermode": "closest",
          "mapbox": {
           "style": "light"
          },
          "paper_bgcolor": "white",
          "plot_bgcolor": "#E5ECF6",
          "polar": {
           "angularaxis": {
            "gridcolor": "white",
            "linecolor": "white",
            "ticks": ""
           },
           "bgcolor": "#E5ECF6",
           "radialaxis": {
            "gridcolor": "white",
            "linecolor": "white",
            "ticks": ""
           }
          },
          "scene": {
           "xaxis": {
            "backgroundcolor": "#E5ECF6",
            "gridcolor": "white",
            "gridwidth": 2,
            "linecolor": "white",
            "showbackground": true,
            "ticks": "",
            "zerolinecolor": "white"
           },
           "yaxis": {
            "backgroundcolor": "#E5ECF6",
            "gridcolor": "white",
            "gridwidth": 2,
            "linecolor": "white",
            "showbackground": true,
            "ticks": "",
            "zerolinecolor": "white"
           },
           "zaxis": {
            "backgroundcolor": "#E5ECF6",
            "gridcolor": "white",
            "gridwidth": 2,
            "linecolor": "white",
            "showbackground": true,
            "ticks": "",
            "zerolinecolor": "white"
           }
          },
          "shapedefaults": {
           "line": {
            "color": "#2a3f5f"
           }
          },
          "ternary": {
           "aaxis": {
            "gridcolor": "white",
            "linecolor": "white",
            "ticks": ""
           },
           "baxis": {
            "gridcolor": "white",
            "linecolor": "white",
            "ticks": ""
           },
           "bgcolor": "#E5ECF6",
           "caxis": {
            "gridcolor": "white",
            "linecolor": "white",
            "ticks": ""
           }
          },
          "title": {
           "x": 0.05
          },
          "xaxis": {
           "automargin": true,
           "gridcolor": "white",
           "linecolor": "white",
           "ticks": "",
           "title": {
            "standoff": 15
           },
           "zerolinecolor": "white",
           "zerolinewidth": 2
          },
          "yaxis": {
           "automargin": true,
           "gridcolor": "white",
           "linecolor": "white",
           "ticks": "",
           "title": {
            "standoff": 15
           },
           "zerolinecolor": "white",
           "zerolinewidth": 2
          }
         }
        },
        "xaxis": {
         "anchor": "y",
         "domain": [
          0,
          1
         ],
         "title": {
          "text": "airline"
         }
        },
        "yaxis": {
         "anchor": "x",
         "domain": [
          0,
          1
         ],
         "title": {
          "text": "number problems / 100000000000"
         }
        }
       }
      },
      "text/html": [
       "<div>                            <div id=\"7ec10f3d-cd0d-4f81-81a0-48a425d2d6b1\" class=\"plotly-graph-div\" style=\"height:525px; width:100%;\"></div>            <script type=\"text/javascript\">                require([\"plotly\"], function(Plotly) {                    window.PLOTLYENV=window.PLOTLYENV || {};                                    if (document.getElementById(\"7ec10f3d-cd0d-4f81-81a0-48a425d2d6b1\")) {                    Plotly.newPlot(                        \"7ec10f3d-cd0d-4f81-81a0-48a425d2d6b1\",                        [{\"alignmentgroup\": \"True\", \"hovertemplate\": \"airline=%{x}<br>number problems / 100000000000=%{y}<extra></extra>\", \"legendgroup\": \"\", \"marker\": {\"color\": \"#636efa\"}, \"name\": \"\", \"offsetgroup\": \"\", \"orientation\": \"v\", \"showlegend\": false, \"textposition\": \"auto\", \"type\": \"bar\", \"x\": [\"Alaska Airlines*\", \"COPA\", \"Alitalia\", \"Turkish Airlines\", \"Delta / Northwest*\", \"United / Continental*\", \"Sri Lankan / AirLanka\", \"TACA\", \"Condor\", \"Singapore Airlines\", \"LAN Airlines\", \"Air New Zealand*\", \"El Al\", \"Aerolineas Argentinas\", \"All Nippon Airways\", \"KLM*\", \"Aer Lingus\", \"Austrian Airlines\", \"Lufthansa*\", \"British Airways*\", \"Qantas*\", \"Southwest Airlines\", \"Air Canada\", \"Hawaiian Airlines\", \"Finnair\", \"Virgin Atlantic\", \"Cathay Pacific*\", \"TAP - Air Portugal\"], \"xaxis\": \"x\", \"y\": [10255, 9264, 9025, 8684, 7968, 6597, 6449, 4626, 4545, 4038, 2594, 2252, 2086, 1814, 651, 640, 623, 558, 350, 314, 312, 274, 214, 202, 197, 99, 77, 0], \"yaxis\": \"y\"}],                        {\"barmode\": \"relative\", \"legend\": {\"tracegroupgap\": 0}, \"margin\": {\"t\": 60}, \"template\": {\"data\": {\"bar\": [{\"error_x\": {\"color\": \"#2a3f5f\"}, \"error_y\": {\"color\": \"#2a3f5f\"}, \"marker\": {\"line\": {\"color\": \"#E5ECF6\", \"width\": 0.5}}, \"type\": \"bar\"}], \"barpolar\": [{\"marker\": {\"line\": {\"color\": \"#E5ECF6\", \"width\": 0.5}}, \"type\": \"barpolar\"}], \"carpet\": [{\"aaxis\": {\"endlinecolor\": \"#2a3f5f\", \"gridcolor\": \"white\", \"linecolor\": \"white\", \"minorgridcolor\": \"white\", \"startlinecolor\": \"#2a3f5f\"}, \"baxis\": {\"endlinecolor\": \"#2a3f5f\", \"gridcolor\": \"white\", \"linecolor\": \"white\", \"minorgridcolor\": \"white\", \"startlinecolor\": \"#2a3f5f\"}, \"type\": \"carpet\"}], \"choropleth\": [{\"colorbar\": {\"outlinewidth\": 0, \"ticks\": \"\"}, \"type\": \"choropleth\"}], \"contour\": [{\"colorbar\": {\"outlinewidth\": 0, \"ticks\": \"\"}, \"colorscale\": [[0.0, \"#0d0887\"], [0.1111111111111111, \"#46039f\"], [0.2222222222222222, \"#7201a8\"], [0.3333333333333333, \"#9c179e\"], [0.4444444444444444, \"#bd3786\"], [0.5555555555555556, \"#d8576b\"], [0.6666666666666666, \"#ed7953\"], [0.7777777777777778, \"#fb9f3a\"], [0.8888888888888888, \"#fdca26\"], [1.0, \"#f0f921\"]], \"type\": \"contour\"}], \"contourcarpet\": [{\"colorbar\": {\"outlinewidth\": 0, \"ticks\": \"\"}, \"type\": \"contourcarpet\"}], \"heatmap\": [{\"colorbar\": {\"outlinewidth\": 0, \"ticks\": \"\"}, \"colorscale\": [[0.0, \"#0d0887\"], [0.1111111111111111, \"#46039f\"], [0.2222222222222222, \"#7201a8\"], [0.3333333333333333, \"#9c179e\"], [0.4444444444444444, \"#bd3786\"], [0.5555555555555556, \"#d8576b\"], [0.6666666666666666, \"#ed7953\"], [0.7777777777777778, \"#fb9f3a\"], [0.8888888888888888, \"#fdca26\"], [1.0, \"#f0f921\"]], \"type\": \"heatmap\"}], \"heatmapgl\": [{\"colorbar\": {\"outlinewidth\": 0, \"ticks\": \"\"}, \"colorscale\": [[0.0, \"#0d0887\"], [0.1111111111111111, \"#46039f\"], [0.2222222222222222, \"#7201a8\"], [0.3333333333333333, \"#9c179e\"], [0.4444444444444444, \"#bd3786\"], [0.5555555555555556, \"#d8576b\"], [0.6666666666666666, \"#ed7953\"], [0.7777777777777778, \"#fb9f3a\"], [0.8888888888888888, \"#fdca26\"], [1.0, \"#f0f921\"]], \"type\": \"heatmapgl\"}], \"histogram\": [{\"marker\": {\"colorbar\": {\"outlinewidth\": 0, \"ticks\": \"\"}}, \"type\": \"histogram\"}], \"histogram2d\": [{\"colorbar\": {\"outlinewidth\": 0, \"ticks\": \"\"}, \"colorscale\": [[0.0, \"#0d0887\"], [0.1111111111111111, \"#46039f\"], [0.2222222222222222, \"#7201a8\"], [0.3333333333333333, \"#9c179e\"], [0.4444444444444444, \"#bd3786\"], [0.5555555555555556, \"#d8576b\"], [0.6666666666666666, \"#ed7953\"], [0.7777777777777778, \"#fb9f3a\"], [0.8888888888888888, \"#fdca26\"], [1.0, \"#f0f921\"]], \"type\": \"histogram2d\"}], \"histogram2dcontour\": [{\"colorbar\": {\"outlinewidth\": 0, \"ticks\": \"\"}, \"colorscale\": [[0.0, \"#0d0887\"], [0.1111111111111111, \"#46039f\"], [0.2222222222222222, \"#7201a8\"], [0.3333333333333333, \"#9c179e\"], [0.4444444444444444, \"#bd3786\"], [0.5555555555555556, \"#d8576b\"], [0.6666666666666666, \"#ed7953\"], [0.7777777777777778, \"#fb9f3a\"], [0.8888888888888888, \"#fdca26\"], [1.0, \"#f0f921\"]], \"type\": \"histogram2dcontour\"}], \"mesh3d\": [{\"colorbar\": {\"outlinewidth\": 0, \"ticks\": \"\"}, \"type\": \"mesh3d\"}], \"parcoords\": [{\"line\": {\"colorbar\": {\"outlinewidth\": 0, \"ticks\": \"\"}}, \"type\": \"parcoords\"}], \"pie\": [{\"automargin\": true, \"type\": \"pie\"}], \"scatter\": [{\"marker\": {\"colorbar\": {\"outlinewidth\": 0, \"ticks\": \"\"}}, \"type\": \"scatter\"}], \"scatter3d\": [{\"line\": {\"colorbar\": {\"outlinewidth\": 0, \"ticks\": \"\"}}, \"marker\": {\"colorbar\": {\"outlinewidth\": 0, \"ticks\": \"\"}}, \"type\": \"scatter3d\"}], \"scattercarpet\": [{\"marker\": {\"colorbar\": {\"outlinewidth\": 0, \"ticks\": \"\"}}, \"type\": \"scattercarpet\"}], \"scattergeo\": [{\"marker\": {\"colorbar\": {\"outlinewidth\": 0, \"ticks\": \"\"}}, \"type\": \"scattergeo\"}], \"scattergl\": [{\"marker\": {\"colorbar\": {\"outlinewidth\": 0, \"ticks\": \"\"}}, \"type\": \"scattergl\"}], \"scattermapbox\": [{\"marker\": {\"colorbar\": {\"outlinewidth\": 0, \"ticks\": \"\"}}, \"type\": \"scattermapbox\"}], \"scatterpolar\": [{\"marker\": {\"colorbar\": {\"outlinewidth\": 0, \"ticks\": \"\"}}, \"type\": \"scatterpolar\"}], \"scatterpolargl\": [{\"marker\": {\"colorbar\": {\"outlinewidth\": 0, \"ticks\": \"\"}}, \"type\": \"scatterpolargl\"}], \"scatterternary\": [{\"marker\": {\"colorbar\": {\"outlinewidth\": 0, \"ticks\": \"\"}}, \"type\": \"scatterternary\"}], \"surface\": [{\"colorbar\": {\"outlinewidth\": 0, \"ticks\": \"\"}, \"colorscale\": [[0.0, \"#0d0887\"], [0.1111111111111111, \"#46039f\"], [0.2222222222222222, \"#7201a8\"], [0.3333333333333333, \"#9c179e\"], [0.4444444444444444, \"#bd3786\"], [0.5555555555555556, \"#d8576b\"], [0.6666666666666666, \"#ed7953\"], [0.7777777777777778, \"#fb9f3a\"], [0.8888888888888888, \"#fdca26\"], [1.0, \"#f0f921\"]], \"type\": \"surface\"}], \"table\": [{\"cells\": {\"fill\": {\"color\": \"#EBF0F8\"}, \"line\": {\"color\": \"white\"}}, \"header\": {\"fill\": {\"color\": \"#C8D4E3\"}, \"line\": {\"color\": \"white\"}}, \"type\": \"table\"}]}, \"layout\": {\"annotationdefaults\": {\"arrowcolor\": \"#2a3f5f\", \"arrowhead\": 0, \"arrowwidth\": 1}, \"coloraxis\": {\"colorbar\": {\"outlinewidth\": 0, \"ticks\": \"\"}}, \"colorscale\": {\"diverging\": [[0, \"#8e0152\"], [0.1, \"#c51b7d\"], [0.2, \"#de77ae\"], [0.3, \"#f1b6da\"], [0.4, \"#fde0ef\"], [0.5, \"#f7f7f7\"], [0.6, \"#e6f5d0\"], [0.7, \"#b8e186\"], [0.8, \"#7fbc41\"], [0.9, \"#4d9221\"], [1, \"#276419\"]], \"sequential\": [[0.0, \"#0d0887\"], [0.1111111111111111, \"#46039f\"], [0.2222222222222222, \"#7201a8\"], [0.3333333333333333, \"#9c179e\"], [0.4444444444444444, \"#bd3786\"], [0.5555555555555556, \"#d8576b\"], [0.6666666666666666, \"#ed7953\"], [0.7777777777777778, \"#fb9f3a\"], [0.8888888888888888, \"#fdca26\"], [1.0, \"#f0f921\"]], \"sequentialminus\": [[0.0, \"#0d0887\"], [0.1111111111111111, \"#46039f\"], [0.2222222222222222, \"#7201a8\"], [0.3333333333333333, \"#9c179e\"], [0.4444444444444444, \"#bd3786\"], [0.5555555555555556, \"#d8576b\"], [0.6666666666666666, \"#ed7953\"], [0.7777777777777778, \"#fb9f3a\"], [0.8888888888888888, \"#fdca26\"], [1.0, \"#f0f921\"]]}, \"colorway\": [\"#636efa\", \"#EF553B\", \"#00cc96\", \"#ab63fa\", \"#FFA15A\", \"#19d3f3\", \"#FF6692\", \"#B6E880\", \"#FF97FF\", \"#FECB52\"], \"font\": {\"color\": \"#2a3f5f\"}, \"geo\": {\"bgcolor\": \"white\", \"lakecolor\": \"white\", \"landcolor\": \"#E5ECF6\", \"showlakes\": true, \"showland\": true, \"subunitcolor\": \"white\"}, \"hoverlabel\": {\"align\": \"left\"}, \"hovermode\": \"closest\", \"mapbox\": {\"style\": \"light\"}, \"paper_bgcolor\": \"white\", \"plot_bgcolor\": \"#E5ECF6\", \"polar\": {\"angularaxis\": {\"gridcolor\": \"white\", \"linecolor\": \"white\", \"ticks\": \"\"}, \"bgcolor\": \"#E5ECF6\", \"radialaxis\": {\"gridcolor\": \"white\", \"linecolor\": \"white\", \"ticks\": \"\"}}, \"scene\": {\"xaxis\": {\"backgroundcolor\": \"#E5ECF6\", \"gridcolor\": \"white\", \"gridwidth\": 2, \"linecolor\": \"white\", \"showbackground\": true, \"ticks\": \"\", \"zerolinecolor\": \"white\"}, \"yaxis\": {\"backgroundcolor\": \"#E5ECF6\", \"gridcolor\": \"white\", \"gridwidth\": 2, \"linecolor\": \"white\", \"showbackground\": true, \"ticks\": \"\", \"zerolinecolor\": \"white\"}, \"zaxis\": {\"backgroundcolor\": \"#E5ECF6\", \"gridcolor\": \"white\", \"gridwidth\": 2, \"linecolor\": \"white\", \"showbackground\": true, \"ticks\": \"\", \"zerolinecolor\": \"white\"}}, \"shapedefaults\": {\"line\": {\"color\": \"#2a3f5f\"}}, \"ternary\": {\"aaxis\": {\"gridcolor\": \"white\", \"linecolor\": \"white\", \"ticks\": \"\"}, \"baxis\": {\"gridcolor\": \"white\", \"linecolor\": \"white\", \"ticks\": \"\"}, \"bgcolor\": \"#E5ECF6\", \"caxis\": {\"gridcolor\": \"white\", \"linecolor\": \"white\", \"ticks\": \"\"}}, \"title\": {\"x\": 0.05}, \"xaxis\": {\"automargin\": true, \"gridcolor\": \"white\", \"linecolor\": \"white\", \"ticks\": \"\", \"title\": {\"standoff\": 15}, \"zerolinecolor\": \"white\", \"zerolinewidth\": 2}, \"yaxis\": {\"automargin\": true, \"gridcolor\": \"white\", \"linecolor\": \"white\", \"ticks\": \"\", \"title\": {\"standoff\": 15}, \"zerolinecolor\": \"white\", \"zerolinewidth\": 2}}}, \"xaxis\": {\"anchor\": \"y\", \"domain\": [0.0, 1.0], \"title\": {\"text\": \"airline\"}}, \"yaxis\": {\"anchor\": \"x\", \"domain\": [0.0, 1.0], \"title\": {\"text\": \"number problems / 100000000000\"}}},                        {\"responsive\": true}                    ).then(function(){\n",
       "                            \n",
       "var gd = document.getElementById('7ec10f3d-cd0d-4f81-81a0-48a425d2d6b1');\n",
       "var x = new MutationObserver(function (mutations, observer) {{\n",
       "        var display = window.getComputedStyle(gd).display;\n",
       "        if (!display || display === 'none') {{\n",
       "            console.log([gd, 'removed!']);\n",
       "            Plotly.purge(gd);\n",
       "            observer.disconnect();\n",
       "        }}\n",
       "}});\n",
       "\n",
       "// Listen for the removal of the full notebook cells\n",
       "var notebookContainer = gd.closest('#notebook-container');\n",
       "if (notebookContainer) {{\n",
       "    x.observe(notebookContainer, {childList: true});\n",
       "}}\n",
       "\n",
       "// Listen for the clearing of the current output cell\n",
       "var outputEl = gd.closest('.output');\n",
       "if (outputEl) {{\n",
       "    x.observe(outputEl, {childList: true});\n",
       "}}\n",
       "\n",
       "                        })                };                });            </script>        </div>"
      ]
     },
     "metadata": {},
     "output_type": "display_data"
    }
   ],
   "source": [
    "dPlotly\n",
    "\n",
    "import plotly.express as px\n",
    "fig = px.bar(dPlotly, x='airline', y='number problems / 100000000000')\n",
    "fig.show()"
   ]
  },
  {
   "cell_type": "code",
   "execution_count": null,
   "metadata": {},
   "outputs": [],
   "source": []
  }
 ],
 "metadata": {
  "kernelspec": {
   "display_name": "conda_python3",
   "language": "python",
   "name": "conda_python3"
  },
  "language_info": {
   "codemirror_mode": {
    "name": "ipython",
    "version": 3
   },
   "file_extension": ".py",
   "mimetype": "text/x-python",
   "name": "python",
   "nbconvert_exporter": "python",
   "pygments_lexer": "ipython3",
   "version": "3.6.10"
  }
 },
 "nbformat": 4,
 "nbformat_minor": 4
}
